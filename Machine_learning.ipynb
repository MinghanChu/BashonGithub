{
  "nbformat": 4,
  "nbformat_minor": 0,
  "metadata": {
    "colab": {
      "provenance": [],
      "authorship_tag": "ABX9TyOMOScurgMQI/wZE6BhjERL",
      "include_colab_link": true
    },
    "kernelspec": {
      "name": "python3",
      "display_name": "Python 3"
    },
    "language_info": {
      "name": "python"
    }
  },
  "cells": [
    {
      "cell_type": "markdown",
      "metadata": {
        "id": "view-in-github",
        "colab_type": "text"
      },
      "source": [
        "<a href=\"https://colab.research.google.com/github/Renshui-MC/BashonGithub/blob/master/Machine_learning.ipynb\" target=\"_parent\"><img src=\"https://colab.research.google.com/assets/colab-badge.svg\" alt=\"Open In Colab\"/></a>"
      ]
    },
    {
      "cell_type": "markdown",
      "source": [
        "#**Machine learning**\n",
        "\n",
        "model parameters: like model coefficients that need to be trained (e.g. slope and interception).\n",
        "\n",
        "Hyperparameters: no need to to be trained and set before training starts."
      ],
      "metadata": {
        "id": "2uUKwfT8db_b"
      }
    }
  ]
}