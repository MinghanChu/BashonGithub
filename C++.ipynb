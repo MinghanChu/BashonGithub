{
  "nbformat": 4,
  "nbformat_minor": 0,
  "metadata": {
    "colab": {
      "provenance": [],
      "authorship_tag": "ABX9TyNVWK0dq05XFRAAU2q7gu9h",
      "include_colab_link": true
    },
    "kernelspec": {
      "name": "python3",
      "display_name": "Python 3"
    },
    "language_info": {
      "name": "python"
    }
  },
  "cells": [
    {
      "cell_type": "markdown",
      "metadata": {
        "id": "view-in-github",
        "colab_type": "text"
      },
      "source": [
        "<a href=\"https://colab.research.google.com/github/Renshui-MC/BashonGithub/blob/master/C%2B%2B.ipynb\" target=\"_parent\"><img src=\"https://colab.research.google.com/assets/colab-badge.svg\" alt=\"Open In Colab\"/></a>"
      ]
    },
    {
      "cell_type": "code",
      "execution_count": null,
      "metadata": {
        "id": "-fb9ZPPaplWX"
      },
      "outputs": [],
      "source": [
        " %lsmagic\n"
      ]
    },
    {
      "cell_type": "code",
      "source": [
        "%%writefile test.cpp\n",
        "\n",
        "#include <iostream>\n",
        "#include <vector>\n",
        "#include <string>\n",
        "#include <array>\n",
        "\n",
        "class Parent\n",
        "{\n",
        "    public:\n",
        "        float X, Y;\n",
        "\n",
        "        void Move(float xa, float ya)\n",
        "        {\n",
        "            X += xa;\n",
        "            Y += ya;\n",
        "        }\n",
        "};\n",
        "\n",
        "class Player : public Parent\n",
        "{\n",
        "    public:\n",
        "        const char* Name;//const char pointer is 8 bytes memory on mac\n",
        "        \n",
        "        void PrintName()\n",
        "        {\n",
        "            std::cout << Name << std::endl;\n",
        "        }\n",
        "};\n",
        "\n",
        "\n",
        "int main()\n",
        "{\n",
        "\n",
        "    int** a = new int*[50];\n",
        "    \n",
        "    std::cout<< sizeof(a) << std::endl;\n",
        "\n",
        "    std::cout << sizeof(Parent) << std::endl;//size of 8 bytes because inside Parent class two float variables are \n",
        "                                             //defined\n",
        "    \n",
        "    std::cout << sizeof(Player) << std::endl;\n",
        "    Player player;\n",
        "    player.Move(5,5);\n",
        "                             \n",
        "\n",
        "   /* int** a2d = new int*[50];  //allocating 200 bytes of memory, i.e. the size of int is 4 bytes\n",
        "    for (int i = 0; i < 50; i++)\n",
        "    {\n",
        "        a2d[i] = new int[50];//essentially allocated 50 arrays, each memory address of these arrays is stored \n",
        "                            //inside the a2d array\n",
        "         delete[] a2d[i];//delete integer\n",
        "    }\n",
        "    delete[] a2d;//delete pointer \n",
        "    a2d[0][0] = 0; //the first 0 is index (pointer) and the second 0 is my actual first integer\n",
        "    a2d[0][1] = 0; //my second integer\n",
        "    a2d[0][2] = 0; //my third integer*/\n",
        "    \n",
        "    \n",
        "    \n",
        "    //**********Example of an equivalent way of representing a 2D array through a 1D array************//\n",
        "    \n",
        "   int** a2d = new int*[5];\n",
        "\n",
        "   for (int i = 0; i < 5; i++)\n",
        "   {\n",
        "       a2d[i] = new int[5];//corresponding to inner most index, e.g. a2d[x][y] then x is the inner most index\n",
        "                           //in other words must be limited to 5\n",
        "                           //inner most y is a free index\n",
        "   }\n",
        "   \n",
        "    for (int x = 0; x < 5; x++)\n",
        "    {\n",
        "        for (int y = 0; y < 10; y++)\n",
        "        {\n",
        "            a2d[x][y] = 2;\n",
        "            std::cout <<\"x= \"<< x <<\" y= \"<< y <<\" a2d= \"<<a2d[x][y]<<std::endl;\n",
        "        }\n",
        "        \n",
        "    }\n",
        "\n",
        "    int* array = new int[5 * 5];\n",
        "    for (int y = 0; y < 5; y++)\n",
        "    {\n",
        "        for (int x = 0; x < 5; x++)\n",
        "        {\n",
        "            array[x + y * 5] = 2;//every time the y increments it jumps 5 elements forward which is equivalent to \n",
        "                                 //dropping 1 row down\n",
        "        \n",
        "            //std::cout <<\"x= \"<< x <<\" y= \"<< y <<\" array= \"<<array[x]<<std::endl;\n",
        "        }\n",
        "        int count = sizeof(array);\n",
        "       \n",
        "    }\n",
        "    std::cin.get();\n",
        "\n",
        "}"
      ],
      "metadata": {
        "colab": {
          "base_uri": "https://localhost:8080/"
        },
        "id": "wvmUD7AotLp9",
        "outputId": "41d1c333-6268-47cb-b827-f54520132da0"
      },
      "execution_count": null,
      "outputs": [
        {
          "output_type": "stream",
          "name": "stdout",
          "text": [
            "Overwriting test.cpp\n"
          ]
        }
      ]
    },
    {
      "cell_type": "code",
      "source": [
        "ls -l"
      ],
      "metadata": {
        "colab": {
          "base_uri": "https://localhost:8080/"
        },
        "id": "0oLwhwVdtphh",
        "outputId": "3854c588-0557-452e-b1ff-d525459ee2a6"
      },
      "execution_count": null,
      "outputs": [
        {
          "output_type": "stream",
          "name": "stdout",
          "text": [
            "total 8\n",
            "drwxr-xr-x 1 root root 4096 Nov  9 00:03 \u001b[0m\u001b[01;34msample_data\u001b[0m/\n",
            "-rw-r--r-- 1 root root   62 Nov  9 23:25 test\n"
          ]
        }
      ]
    },
    {
      "cell_type": "code",
      "source": [
        "%%shell\n",
        "\n",
        "g++ -o myprogram test.cpp\n",
        "./myprogram"
      ],
      "metadata": {
        "colab": {
          "base_uri": "https://localhost:8080/",
          "height": 1000
        },
        "id": "DHROAtIGtzB8",
        "outputId": "abf3abca-ed54-4a66-a51c-e7f010dce265"
      },
      "execution_count": null,
      "outputs": [
        {
          "output_type": "stream",
          "name": "stdout",
          "text": [
            "8\n",
            "8\n",
            "16\n",
            "x= 0 y= 0 a2d= 2\n",
            "x= 0 y= 1 a2d= 2\n",
            "x= 0 y= 2 a2d= 2\n",
            "x= 0 y= 3 a2d= 2\n",
            "x= 0 y= 4 a2d= 2\n",
            "x= 0 y= 5 a2d= 2\n",
            "x= 0 y= 6 a2d= 2\n",
            "x= 0 y= 7 a2d= 2\n",
            "x= 0 y= 8 a2d= 2\n",
            "x= 0 y= 9 a2d= 2\n",
            "x= 1 y= 0 a2d= 2\n",
            "x= 1 y= 1 a2d= 2\n",
            "x= 1 y= 2 a2d= 2\n",
            "x= 1 y= 3 a2d= 2\n",
            "x= 1 y= 4 a2d= 2\n",
            "x= 1 y= 5 a2d= 2\n",
            "x= 1 y= 6 a2d= 2\n",
            "x= 1 y= 7 a2d= 2\n",
            "x= 1 y= 8 a2d= 2\n",
            "x= 1 y= 9 a2d= 2\n",
            "x= 2 y= 0 a2d= 2\n",
            "x= 2 y= 1 a2d= 2\n",
            "x= 2 y= 2 a2d= 2\n",
            "x= 2 y= 3 a2d= 2\n",
            "x= 2 y= 4 a2d= 2\n",
            "x= 2 y= 5 a2d= 2\n",
            "x= 2 y= 6 a2d= 2\n",
            "x= 2 y= 7 a2d= 2\n",
            "x= 2 y= 8 a2d= 2\n",
            "x= 2 y= 9 a2d= 2\n",
            "x= 3 y= 0 a2d= 2\n",
            "x= 3 y= 1 a2d= 2\n",
            "x= 3 y= 2 a2d= 2\n",
            "x= 3 y= 3 a2d= 2\n",
            "x= 3 y= 4 a2d= 2\n",
            "x= 3 y= 5 a2d= 2\n",
            "x= 3 y= 6 a2d= 2\n",
            "x= 3 y= 7 a2d= 2\n",
            "x= 3 y= 8 a2d= 2\n",
            "x= 3 y= 9 a2d= 2\n",
            "x= 4 y= 0 a2d= 2\n",
            "x= 4 y= 1 a2d= 2\n",
            "x= 4 y= 2 a2d= 2\n",
            "x= 4 y= 3 a2d= 2\n",
            "x= 4 y= 4 a2d= 2\n",
            "x= 4 y= 5 a2d= 2\n",
            "x= 4 y= 6 a2d= 2\n",
            "x= 4 y= 7 a2d= 2\n",
            "x= 4 y= 8 a2d= 2\n",
            "x= 4 y= 9 a2d= 2\n"
          ]
        },
        {
          "output_type": "error",
          "ename": "CalledProcessError",
          "evalue": "ignored",
          "traceback": [
            "\u001b[0;31m---------------------------------------------------------------------------\u001b[0m",
            "\u001b[0;31mCalledProcessError\u001b[0m                        Traceback (most recent call last)",
            "\u001b[0;32m<ipython-input-20-31ca4a812bf4>\u001b[0m in \u001b[0;36m<module>\u001b[0;34m\u001b[0m\n\u001b[0;32m----> 1\u001b[0;31m \u001b[0mget_ipython\u001b[0m\u001b[0;34m(\u001b[0m\u001b[0;34m)\u001b[0m\u001b[0;34m.\u001b[0m\u001b[0mrun_cell_magic\u001b[0m\u001b[0;34m(\u001b[0m\u001b[0;34m'shell'\u001b[0m\u001b[0;34m,\u001b[0m \u001b[0;34m''\u001b[0m\u001b[0;34m,\u001b[0m \u001b[0;34m'\\ng++ -o myprogram test.cpp\\n./myprogram\\n'\u001b[0m\u001b[0;34m)\u001b[0m\u001b[0;34m\u001b[0m\u001b[0;34m\u001b[0m\u001b[0m\n\u001b[0m",
            "\u001b[0;32m/usr/local/lib/python3.7/dist-packages/IPython/core/interactiveshell.py\u001b[0m in \u001b[0;36mrun_cell_magic\u001b[0;34m(self, magic_name, line, cell)\u001b[0m\n\u001b[1;32m   2357\u001b[0m             \u001b[0;32mwith\u001b[0m \u001b[0mself\u001b[0m\u001b[0;34m.\u001b[0m\u001b[0mbuiltin_trap\u001b[0m\u001b[0;34m:\u001b[0m\u001b[0;34m\u001b[0m\u001b[0;34m\u001b[0m\u001b[0m\n\u001b[1;32m   2358\u001b[0m                 \u001b[0margs\u001b[0m \u001b[0;34m=\u001b[0m \u001b[0;34m(\u001b[0m\u001b[0mmagic_arg_s\u001b[0m\u001b[0;34m,\u001b[0m \u001b[0mcell\u001b[0m\u001b[0;34m)\u001b[0m\u001b[0;34m\u001b[0m\u001b[0;34m\u001b[0m\u001b[0m\n\u001b[0;32m-> 2359\u001b[0;31m                 \u001b[0mresult\u001b[0m \u001b[0;34m=\u001b[0m \u001b[0mfn\u001b[0m\u001b[0;34m(\u001b[0m\u001b[0;34m*\u001b[0m\u001b[0margs\u001b[0m\u001b[0;34m,\u001b[0m \u001b[0;34m**\u001b[0m\u001b[0mkwargs\u001b[0m\u001b[0;34m)\u001b[0m\u001b[0;34m\u001b[0m\u001b[0;34m\u001b[0m\u001b[0m\n\u001b[0m\u001b[1;32m   2360\u001b[0m             \u001b[0;32mreturn\u001b[0m \u001b[0mresult\u001b[0m\u001b[0;34m\u001b[0m\u001b[0;34m\u001b[0m\u001b[0m\n\u001b[1;32m   2361\u001b[0m \u001b[0;34m\u001b[0m\u001b[0m\n",
            "\u001b[0;32m/usr/local/lib/python3.7/dist-packages/google/colab/_system_commands.py\u001b[0m in \u001b[0;36m_shell_cell_magic\u001b[0;34m(args, cmd)\u001b[0m\n\u001b[1;32m    107\u001b[0m   \u001b[0mresult\u001b[0m \u001b[0;34m=\u001b[0m \u001b[0m_run_command\u001b[0m\u001b[0;34m(\u001b[0m\u001b[0mcmd\u001b[0m\u001b[0;34m,\u001b[0m \u001b[0mclear_streamed_output\u001b[0m\u001b[0;34m=\u001b[0m\u001b[0;32mFalse\u001b[0m\u001b[0;34m)\u001b[0m\u001b[0;34m\u001b[0m\u001b[0;34m\u001b[0m\u001b[0m\n\u001b[1;32m    108\u001b[0m   \u001b[0;32mif\u001b[0m \u001b[0;32mnot\u001b[0m \u001b[0mparsed_args\u001b[0m\u001b[0;34m.\u001b[0m\u001b[0mignore_errors\u001b[0m\u001b[0;34m:\u001b[0m\u001b[0;34m\u001b[0m\u001b[0;34m\u001b[0m\u001b[0m\n\u001b[0;32m--> 109\u001b[0;31m     \u001b[0mresult\u001b[0m\u001b[0;34m.\u001b[0m\u001b[0mcheck_returncode\u001b[0m\u001b[0;34m(\u001b[0m\u001b[0;34m)\u001b[0m\u001b[0;34m\u001b[0m\u001b[0;34m\u001b[0m\u001b[0m\n\u001b[0m\u001b[1;32m    110\u001b[0m   \u001b[0;32mreturn\u001b[0m \u001b[0mresult\u001b[0m\u001b[0;34m\u001b[0m\u001b[0;34m\u001b[0m\u001b[0m\n\u001b[1;32m    111\u001b[0m \u001b[0;34m\u001b[0m\u001b[0m\n",
            "\u001b[0;32m/usr/local/lib/python3.7/dist-packages/google/colab/_system_commands.py\u001b[0m in \u001b[0;36mcheck_returncode\u001b[0;34m(self)\u001b[0m\n\u001b[1;32m    133\u001b[0m     \u001b[0;32mif\u001b[0m \u001b[0mself\u001b[0m\u001b[0;34m.\u001b[0m\u001b[0mreturncode\u001b[0m\u001b[0;34m:\u001b[0m\u001b[0;34m\u001b[0m\u001b[0;34m\u001b[0m\u001b[0m\n\u001b[1;32m    134\u001b[0m       raise subprocess.CalledProcessError(\n\u001b[0;32m--> 135\u001b[0;31m           returncode=self.returncode, cmd=self.args, output=self.output)\n\u001b[0m\u001b[1;32m    136\u001b[0m \u001b[0;34m\u001b[0m\u001b[0m\n\u001b[1;32m    137\u001b[0m   \u001b[0;32mdef\u001b[0m \u001b[0m_repr_pretty_\u001b[0m\u001b[0;34m(\u001b[0m\u001b[0mself\u001b[0m\u001b[0;34m,\u001b[0m \u001b[0mp\u001b[0m\u001b[0;34m,\u001b[0m \u001b[0mcycle\u001b[0m\u001b[0;34m)\u001b[0m\u001b[0;34m:\u001b[0m  \u001b[0;31m# pylint:disable=unused-argument\u001b[0m\u001b[0;34m\u001b[0m\u001b[0;34m\u001b[0m\u001b[0m\n",
            "\u001b[0;31mCalledProcessError\u001b[0m: Command '\ng++ -o myprogram test.cpp\n./myprogram\n' died with <Signals.SIGINT: 2>."
          ]
        }
      ]
    },
    {
      "cell_type": "code",
      "source": [
        "%%shell\n",
        "./myprogram"
      ],
      "metadata": {
        "colab": {
          "base_uri": "https://localhost:8080/"
        },
        "id": "u6LlDcS9u_Hs",
        "outputId": "44ec5bb4-a9eb-496e-99a9-65f0bd588fdb"
      },
      "execution_count": null,
      "outputs": [
        {
          "output_type": "stream",
          "name": "stdout",
          "text": [
            "Hello World"
          ]
        },
        {
          "output_type": "execute_result",
          "data": {
            "text/plain": []
          },
          "metadata": {},
          "execution_count": 18
        }
      ]
    }
  ]
}